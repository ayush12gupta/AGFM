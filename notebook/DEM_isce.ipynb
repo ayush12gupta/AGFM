{
 "cells": [
  {
   "cell_type": "code",
   "execution_count": 1,
   "metadata": {},
   "outputs": [
    {
     "name": "stdout",
     "output_type": "stream",
     "text": [
      "/DATA/glacier-vel/output/2017/2017_dem\n"
     ]
    }
   ],
   "source": [
    "%cd /DATA/glacier-vel/output/2017/2017_dem"
   ]
  },
  {
   "cell_type": "code",
   "execution_count": 2,
   "metadata": {},
   "outputs": [
    {
     "name": "stdout",
     "output_type": "stream",
     "text": [
      "DemApps.py                                  DemProc.xml\r\n",
      "demh.npy                                    \u001b[0m\u001b[01;34mfine_coreg\u001b[0m/\r\n",
      "demLat_N31_N34_Lon_E076_E079.dem            \u001b[01;34mfine_interferogram\u001b[0m/\r\n",
      "demLat_N31_N34_Lon_E076_E079.dem.vrt        \u001b[01;34mfine_offsets\u001b[0m/\r\n",
      "demLat_N31_N34_Lon_E076_E079.dem.wgs84      \u001b[01;34mgeom_reference\u001b[0m/\r\n",
      "demLat_N31_N34_Lon_E076_E079.dem.wgs84.vrt  isce.log\r\n",
      "demLat_N31_N34_Lon_E076_E079.dem.wgs84.xml  \u001b[01;34mmerged\u001b[0m/\r\n",
      "demLat_N31_N34_Lon_E076_E079.dem.xml        \u001b[01;34mPICKLE\u001b[0m/\r\n",
      "\u001b[01;35mdemLat_zero.tif\u001b[0m                             \u001b[01;34mreference\u001b[0m/\r\n",
      "demLat_zero.tif.vrt                         reference.xml\r\n",
      "demLat_zero.tif.wgs84                       \u001b[01;34msecondary\u001b[0m/\r\n",
      "demLat_zero.tif.wgs84.vrt                   secondary.xml\r\n",
      "demLat_zero.tif.wgs84.xml                   topsApp.xml\r\n",
      "demLat_zero.tif.xml                         topsinsar.log\r\n"
     ]
    }
   ],
   "source": [
    "ls "
   ]
  },
  {
   "cell_type": "code",
   "execution_count": 2,
   "metadata": {},
   "outputs": [
    {
     "name": "stdout",
     "output_type": "stream",
     "text": [
      "This is the Open Source version of ISCE.\n",
      "Some of the workflows depend on a separate licensed package.\n",
      "To obtain the licensed package, please make a request for ISCE\n",
      "through the website: https://download.jpl.nasa.gov/ops/request/index.cfm.\n",
      "Alternatively, if you are a member, or can become a member of WinSAR\n",
      "you may be able to obtain access to a version of the licensed sofware at\n",
      "https://winsar.unavco.org/software/isce\n"
     ]
    }
   ],
   "source": [
    "import isce\n",
    "import isceobj\n",
    "import numpy as np\n",
    "from isceobj.Util.ImageUtil import ImageLib as IML\n",
    "from isceobj.Planet.Planet import Planet\n",
    "\n",
    "def loadProduct(xmlname):\n",
    "    '''\n",
    "    Load the product using Product Manager.\n",
    "    '''\n",
    "\n",
    "    from iscesys.Component.ProductManager import ProductManager as PM\n",
    "\n",
    "    pm = PM()\n",
    "    pm.configure()\n",
    "\n",
    "    obj = pm.loadProduct(xmlname)\n",
    "\n",
    "    return obj"
   ]
  },
  {
   "cell_type": "code",
   "execution_count": 4,
   "metadata": {},
   "outputs": [],
   "source": [
    "from DemApps import *"
   ]
  },
  {
   "cell_type": "code",
   "execution_count": 5,
   "metadata": {},
   "outputs": [
    {
     "name": "stdout",
     "output_type": "stream",
     "text": [
      "2023-01-14 01:22:34,348 - isce.insar - INFO - ISCE VERSION = 2.5.3, RELEASE_SVN_REVISION = ,RELEASE_DATE = 20210823, CURRENT_SVN_REVISION = \n",
      "ISCE VERSION = 2.5.3, RELEASE_SVN_REVISION = ,RELEASE_DATE = 20210823, CURRENT_SVN_REVISION = \n",
      "\n",
      "2023-01-14 01:22:34,367 - isce.insar - WARNING - Some filenames in insarApp.geocode_list configuration are different from those in InsarProc. Using names given to insarApp.\n",
      "insarApp.geocode_list = ['merged/phsig.cor', 'merged/filt_topophase.unw', 'merged/range.rdr', 'merged/look_angle.rdr', 'merged/bp.rdr', 'merged/bn.rdr', 'merged/los.rdr', 'merged/z.rdr', 'merged/incid.rdr', 'merged/topophase.flat', 'merged/filt_topophase.flat', 'merged/topophase.cor', 'merged/filt_topophase.unw.conncomp']\n",
      "InsarProc.geocode_list = ['merged/phsig.cor', 'merged/topophase.cor', 'merged/filt_topophase.unw', 'merged/los.rdr', 'merged/topophase.flat', 'merged/filt_topophase.flat', 'merged/filt_topophase_2stage.unw']\n"
     ]
    }
   ],
   "source": [
    "insar = DemInSAR(name=\"DemApp\", cmdline='topsApp.xml')\n",
    "insar.configure()\n",
    "# insar.run()"
   ]
  },
  {
   "cell_type": "code",
   "execution_count": 5,
   "metadata": {},
   "outputs": [],
   "source": [
    "img  = isceobj.createImage()\n",
    "img.load( './merged/filt_topophase.unw.xml')\n",
    "bands = img.bands \n",
    "dtype = img.dataType\n",
    "# img.filename = outfile"
   ]
  },
  {
   "cell_type": "code",
   "execution_count": 7,
   "metadata": {},
   "outputs": [],
   "source": [
    "def get_earthRadius(posZ, height, ellip):\n",
    "    re = ellip.a\n",
    "    rp = ellip.b\n",
    "    lat = np.arcsin(posZ/height)\n",
    "    return (re*rp)/np.sqrt((rp*np.cos(lat))**2 + (re*np.sin(lat))**2)"
   ]
  },
  {
   "cell_type": "code",
   "execution_count": 8,
   "metadata": {},
   "outputs": [
    {
     "name": "stdout",
     "output_type": "stream",
     "text": [
      "Change to line no. 0\n",
      "Change to line no. 1\n",
      "Change to line no. 2\n",
      "Change to line no. 3\n",
      "!!! 800071.370391282 800071.3703912823\n",
      "[1744947.24821687 5807964.65982781 3637844.76560829]\n",
      "31.002522 27.43732189602955\n",
      "31.006372 27.43732189602955\n",
      "!!! 800115.632071462 800115.6320714619\n",
      "[1744947.24821687 5807964.65982781 3637844.76560829]\n",
      "31.002522 27.442648127690628\n",
      "31.006372 27.442648127690628\n",
      "31.008747 27.442648127690628\n",
      "!!! 800159.8937516407 800159.8937516415\n",
      "[1744947.24821687 5807964.65982781 3637844.76560829]\n",
      "31.002522 27.447972773932527\n",
      "31.006372 27.447972773932527\n",
      "!!! 800204.1554318207 800204.155431821\n",
      "[1744947.24821687 5807964.65982781 3637844.76560829]\n",
      "31.002522 27.45329583575697\n",
      "31.006372 27.45329583575697\n",
      "!!! 800248.4171120008 800248.4171120006\n",
      "[1744947.24821687 5807964.65982781 3637844.76560829]\n",
      "31.002522 27.458617314164407\n",
      "31.006372 27.458617314164407\n",
      "!!! 800292.6787921803 800292.6787921803\n",
      "[1744947.24821687 5807964.65982781 3637844.76560829]\n",
      "31.002522 27.463937210154604\n",
      "31.006372 27.463937210154604\n",
      "!!! 800336.9404723598 800336.9404723598\n",
      "[1744947.24821687 5807964.65982781 3637844.76560829]\n",
      "31.002522 27.46925552472602\n",
      "31.006372 27.46925552472602\n",
      "!!! 800381.2021525406 800381.2021525394\n",
      "[1744947.24821687 5807964.65982781 3637844.76560829]\n",
      "31.002522 27.47457225887603\n",
      "31.006372 27.47457225887603\n",
      "!!! 800425.4638327198 800425.463832719\n",
      "[1744947.24821687 5807964.65982781 3637844.76560829]\n",
      "31.002522 27.47988741360105\n",
      "31.006372 27.47988741360105\n",
      "!!! 800469.7255128996 800469.7255128986\n",
      "[1744947.24821687 5807964.65982781 3637844.76560829]\n",
      "31.002522 27.485200989896374\n",
      "31.006372 27.485200989896374\n",
      "31.008747 27.485200989896374\n",
      "!!! 800513.9871930802 800513.9871930782\n",
      "[1744947.24821687 5807964.65982781 3637844.76560829]\n",
      "31.002522 27.490512988756326\n",
      "31.006372 27.490512988756326\n",
      "!!! 800558.2488732573 800558.2488732578\n",
      "[1744947.24821687 5807964.65982781 3637844.76560829]\n",
      "31.002522 27.495823411174108\n",
      "31.006372 27.495823411174108\n",
      "!!! 800602.5105534384 800602.5105534374\n",
      "[1744947.24821687 5807964.65982781 3637844.76560829]\n",
      "31.002522 27.50113225814184\n",
      "31.006372 27.50113225814184\n",
      "!!! 800646.772233619 800646.7722336169\n",
      "[1744947.24821687 5807964.65982781 3637844.76560829]\n",
      "31.002522 27.5064395306507\n",
      "31.006372 27.5064395306507\n",
      "!!! 800691.0339137964 800691.0339137965\n",
      "[1744947.24821687 5807964.65982781 3637844.76560829]\n",
      "31.002522 27.51174522969065\n",
      "31.006372 27.51174522969065\n",
      "!!! 800735.2955939743 800735.2955939762\n",
      "[1744947.24821687 5807964.65982781 3637844.76560829]\n",
      "31.002522 27.51704935625085\n",
      "31.006372 27.51704935625085\n",
      "!!! 800779.5572741559 800779.5572741558\n",
      "[1744947.24821687 5807964.65982781 3637844.76560829]\n",
      "31.002522 27.522351911319046\n",
      "31.006372 27.522351911319046\n",
      "!!! 800823.8189543354 800823.8189543353\n",
      "[1744947.24821687 5807964.65982781 3637844.76560829]\n",
      "31.002522 27.527652895882294\n",
      "31.006372 27.527652895882294\n",
      "31.008747 27.527652895882294\n",
      "!!! 800868.0806345143 800868.0806345149\n",
      "[1744947.24821687 5807964.65982781 3637844.76560829]\n",
      "31.002522 27.532952310926486\n",
      "31.006372 27.532952310926486\n",
      "31.008747 27.532952310926486\n",
      "!!! 800912.342314695 800912.3423146945\n",
      "[1744947.24821687 5807964.65982781 3637844.76560829]\n",
      "31.002522 27.53825015743641\n",
      "31.006372 27.53825015743641\n",
      "!!! 800956.6039948736 800956.603994874\n",
      "[1744947.24821687 5807964.65982781 3637844.76560829]\n",
      "31.002522 27.543546436395793\n",
      "31.006372 27.543546436395793\n",
      "31.008747 27.543546436395793\n",
      "!!! 801000.8656750539 801000.8656750537\n",
      "[1744947.24821687 5807964.65982781 3637844.76560829]\n",
      "31.002522 27.548841148787407\n",
      "31.006372 27.548841148787407\n",
      "!!! 801045.1273552335 801045.1273552333\n",
      "[1744947.24821687 5807964.65982781 3637844.76560829]\n",
      "31.002522 27.554134295593027\n",
      "31.006372 27.554134295593027\n",
      "31.008747 27.554134295593027\n",
      "!!! 801089.3890354132 801089.3890354129\n",
      "[1744947.24821687 5807964.65982781 3637844.76560829]\n",
      "31.002522 27.559425877793284\n",
      "31.006372 27.559425877793284\n",
      "!!! 801133.6507155941 801133.6507155924\n",
      "[1744947.24821687 5807964.65982781 3637844.76560829]\n",
      "31.002522 27.564715896367854\n",
      "31.006372 27.564715896367854\n",
      "!!! 801177.9123957725 801177.9123957721\n",
      "[1744947.24821687 5807964.65982781 3637844.76560829]\n",
      "31.002522 27.570004352295296\n",
      "31.006372 27.570004352295296\n",
      "!!! 801222.1740759512 801222.1740759517\n",
      "[1744947.24821687 5807964.65982781 3637844.76560829]\n",
      "31.002522 27.575291246553135\n",
      "31.006372 27.575291246553135\n",
      "!!! 801266.4357561313 801266.4357561312\n",
      "[1744947.24821687 5807964.65982781 3637844.76560829]\n",
      "31.002522 27.580576580117953\n",
      "31.006372 27.580576580117953\n",
      "!!! 801310.6974363105 801310.6974363108\n",
      "[1744947.24821687 5807964.65982781 3637844.76560829]\n"
     ]
    },
    {
     "ename": "Exception",
     "evalue": "Interpolation time out of bounds",
     "output_type": "error",
     "traceback": [
      "\u001b[0;31m---------------------------------------------------------------------------\u001b[0m",
      "\u001b[0;31mException\u001b[0m                                 Traceback (most recent call last)",
      "\u001b[0;32m<ipython-input-8-6570a0ae844b>\u001b[0m in \u001b[0;36m<module>\u001b[0;34m\u001b[0m\n\u001b[1;32m    133\u001b[0m \u001b[0;34m\u001b[0m\u001b[0m\n\u001b[1;32m    134\u001b[0m             \u001b[0mtarget\u001b[0m \u001b[0;34m=\u001b[0m \u001b[0mmBurst\u001b[0m\u001b[0;34m.\u001b[0m\u001b[0morbit\u001b[0m\u001b[0;34m.\u001b[0m\u001b[0mrdr2geo\u001b[0m\u001b[0;34m(\u001b[0m\u001b[0mtline\u001b[0m\u001b[0;34m,\u001b[0m \u001b[0mrng\u001b[0m\u001b[0;34m,\u001b[0m \u001b[0mheight\u001b[0m\u001b[0;34m=\u001b[0m\u001b[0mcurheight\u001b[0m\u001b[0;34m)\u001b[0m\u001b[0;34m\u001b[0m\u001b[0;34m\u001b[0m\u001b[0m\n\u001b[0;32m--> 135\u001b[0;31m             \u001b[0mslvTime\u001b[0m\u001b[0;34m,\u001b[0m \u001b[0mslvrng\u001b[0m \u001b[0;34m=\u001b[0m \u001b[0msBurst\u001b[0m\u001b[0;34m.\u001b[0m\u001b[0morbit\u001b[0m\u001b[0;34m.\u001b[0m\u001b[0mgeo2rdr\u001b[0m\u001b[0;34m(\u001b[0m\u001b[0mtarget\u001b[0m\u001b[0;34m)\u001b[0m\u001b[0;34m\u001b[0m\u001b[0;34m\u001b[0m\u001b[0m\n\u001b[0m\u001b[1;32m    136\u001b[0m             \u001b[0msecondarySV\u001b[0m \u001b[0;34m=\u001b[0m \u001b[0msBurst\u001b[0m\u001b[0;34m.\u001b[0m\u001b[0morbit\u001b[0m\u001b[0;34m.\u001b[0m\u001b[0minterpolateOrbit\u001b[0m\u001b[0;34m(\u001b[0m\u001b[0mslvTime\u001b[0m\u001b[0;34m,\u001b[0m \u001b[0mmethod\u001b[0m\u001b[0;34m=\u001b[0m\u001b[0;34m'hermite'\u001b[0m\u001b[0;34m)\u001b[0m\u001b[0;34m\u001b[0m\u001b[0;34m\u001b[0m\u001b[0m\n\u001b[1;32m    137\u001b[0m             \u001b[0mtargxyz\u001b[0m \u001b[0;34m=\u001b[0m \u001b[0mnp\u001b[0m\u001b[0;34m.\u001b[0m\u001b[0marray\u001b[0m\u001b[0;34m(\u001b[0m\u001b[0mrefElp\u001b[0m\u001b[0;34m.\u001b[0m\u001b[0mLLH\u001b[0m\u001b[0;34m(\u001b[0m\u001b[0mtarget\u001b[0m\u001b[0;34m[\u001b[0m\u001b[0;36m0\u001b[0m\u001b[0;34m]\u001b[0m\u001b[0;34m,\u001b[0m \u001b[0mtarget\u001b[0m\u001b[0;34m[\u001b[0m\u001b[0;36m1\u001b[0m\u001b[0;34m]\u001b[0m\u001b[0;34m,\u001b[0m \u001b[0mtarget\u001b[0m\u001b[0;34m[\u001b[0m\u001b[0;36m2\u001b[0m\u001b[0;34m]\u001b[0m\u001b[0;34m)\u001b[0m\u001b[0;34m.\u001b[0m\u001b[0mecef\u001b[0m\u001b[0;34m(\u001b[0m\u001b[0;34m)\u001b[0m\u001b[0;34m.\u001b[0m\u001b[0mtolist\u001b[0m\u001b[0;34m(\u001b[0m\u001b[0;34m)\u001b[0m\u001b[0;34m)\u001b[0m\u001b[0;34m\u001b[0m\u001b[0;34m\u001b[0m\u001b[0m\n",
      "\u001b[0;32m~/isce/packages/isce/components/isceobj/Orbit/Orbit.py\u001b[0m in \u001b[0;36mgeo2rdr\u001b[0;34m(self, llh, side, planet, doppler, wvl)\u001b[0m\n\u001b[1;32m   1053\u001b[0m \u001b[0;34m\u001b[0m\u001b[0m\n\u001b[1;32m   1054\u001b[0m         \u001b[0;32mif\u001b[0m \u001b[0moutOfBounds\u001b[0m\u001b[0;34m:\u001b[0m\u001b[0;34m\u001b[0m\u001b[0;34m\u001b[0m\u001b[0m\n\u001b[0;32m-> 1055\u001b[0;31m             \u001b[0;32mraise\u001b[0m \u001b[0mException\u001b[0m\u001b[0;34m(\u001b[0m\u001b[0;34m'Interpolation time out of bounds'\u001b[0m\u001b[0;34m)\u001b[0m\u001b[0;34m\u001b[0m\u001b[0;34m\u001b[0m\u001b[0m\n\u001b[0m\u001b[1;32m   1056\u001b[0m \u001b[0;34m\u001b[0m\u001b[0m\n\u001b[1;32m   1057\u001b[0m         \u001b[0;32mreturn\u001b[0m \u001b[0mtguess\u001b[0m\u001b[0;34m,\u001b[0m \u001b[0mrng\u001b[0m\u001b[0;34m\u001b[0m\u001b[0;34m\u001b[0m\u001b[0m\n",
      "\u001b[0;31mException\u001b[0m: Interpolation time out of bounds"
     ]
    }
   ],
   "source": [
    "import datetime\n",
    "\n",
    "los = IML.mmapFromISCE('./merged/los_dem.rdr').bands[0]  \n",
    "unw = IML.mmapFromISCE('./merged/filt_topophase.unw').bands[1]\n",
    "h_zero = IML.mmapFromISCE('./merged/hgt_zero.rdr').bands[0]\n",
    "h_dem = IML.mmapFromISCE('./merged/hgt.rdr').bands[0]\n",
    "H = h_zero.copy()\n",
    "rnglook = 19\n",
    "azlook = 7\n",
    "swath_width = los.shape[1]*19/2\n",
    "swath_height = los.shape[1]*7/6\n",
    "wavelength = 0.056\n",
    "deg2rad = np.pi/180\n",
    "thresh = 0.05\n",
    "\n",
    "mllines, mlpixel = los.shape\n",
    "\n",
    "for i in range(10):\n",
    "    print('Change to line no.', i)\n",
    "    line = azlook*i + (azlook//2)\n",
    "    curheight = 0\n",
    "    lastheight = 0\n",
    "    Bperp = 0\n",
    "    Bpar = 0\n",
    "    nburst = int(line//swath_height)\n",
    "    tmpphase = 0\n",
    "    tmppixel = 0\n",
    "#     swath = tmppixel//swath_width\n",
    "    \n",
    "    if (unw[i,:]!=0).sum()!=0:\n",
    "        lineok = True\n",
    "    else:\n",
    "        lineok = False\n",
    "        continue\n",
    "    \n",
    "    mid = mlpixel//2\n",
    "    if lineok:\n",
    "        for j in range(mid+1):\n",
    "#             print(j)\n",
    "            if unw[i, mid-j]!=0:\n",
    "                tmpphase = unw[i, mid-j]\n",
    "                tmpj = mid-j\n",
    "                tmppixel = rnglook*(mid-j) + (rnglook//2)\n",
    "                break\n",
    "            if unw[i, mid+j]!=0:\n",
    "                tmpphase = unw[i, mid+j]\n",
    "                tmppixel = rnglook*(mid+j) + (rnglook//2)\n",
    "                break\n",
    "            \n",
    "    # Iterating for Baseline\n",
    "    swath = tmppixel//swath_width + 1\n",
    "    reference = loadProduct('./reference/IW{0}.xml'.format(int(swath)))\n",
    "    secondary = loadProduct('./secondary/IW{0}.xml'.format(int(swath)))\n",
    "    \n",
    "    mBurst = reference.bursts[nburst]\n",
    "    sBurst = secondary.bursts[nburst]\n",
    "#     tmid = mBurst.sensingMid\n",
    "#     referenceSV = reference.orbit.interpolate(tmid, method='hermite')\n",
    "#     secondarySV = secondary.orbit.interpolate(tmid, method='hermite')\n",
    "    \n",
    "    strt_rng = mBurst.startingRange\n",
    "    pixelsize = mBurst.rangePixelSize\n",
    "    \n",
    "    deltaT = datetime.timedelta(seconds=(line - 1)*mBurst.azimuthTimeInterval)\n",
    "    tline = mBurst.sensingStart + deltaT\n",
    "    referenceSV = mBurst.orbit.interpolate(tline, method='hermite')\n",
    "    temprng = strt_rng + pixelsize*tmppixel\n",
    "    \n",
    "    refElp = Planet(pname='Earth').ellipsoid\n",
    "#     ELIP = Planet(pname='Earth').ellipsoid\n",
    "    inc_angle = los[i, tmpj]\n",
    "    tempphase = unw[i, tmpj]\n",
    "    \n",
    "    for j in range(4):\n",
    "        target = mBurst.orbit.rdr2geo(tline, temprng, height=curheight) \n",
    "        slvTime, slvrng = sBurst.orbit.geo2rdr(target)\n",
    "        secondarySV = sBurst.orbit.interpolateOrbit(slvTime, method='hermite')\n",
    "\n",
    "        targxyz = np.array(refElp.LLH(target[0], target[1], target[2]).ecef().tolist())\n",
    "        mxyz = np.array(referenceSV.getPosition())\n",
    "        mvel = np.array(referenceSV.getVelocity())\n",
    "        sxyz = np.array(secondarySV.getPosition())\n",
    "        mvelunit = mvel / np.linalg.norm(mvel)\n",
    "        sxyz = sxyz - np.dot ( sxyz-mxyz, mvelunit) * mvelunit\n",
    "\n",
    "        aa = np.linalg.norm(sxyz-mxyz)\n",
    "        costheta = (temprng*temprng + aa*aa - slvrng*slvrng)/(2.*temprng*aa)\n",
    "        perp = aa * np.sqrt(1 - costheta*costheta)\n",
    "        direction = np.sign(np.dot( np.cross(targxyz-mxyz, sxyz-mxyz), mvel))\n",
    "        Bpar = aa*costheta\n",
    "        sintheta = np.sqrt(1-(costheta**2))\n",
    "        Bperp = direction*perp\n",
    "        \n",
    "        lastheight = curheight\n",
    "        curheight = (-wavelength*temprng*np.sin(inc_angle*deg2rad)*tempphase)/(4*np.pi*Bperp)\n",
    "#         print(Bperp, Bpar, tempphase, curheight, costheta, slvTime)\n",
    "        \n",
    "        if np.abs(lastheight-curheight) < thresh:\n",
    "            break\n",
    "        \n",
    "    Bhor = Bperp*costheta + Bpar*sintheta\n",
    "    Bver = Bperp*costheta - Bpar*sintheta\n",
    "    curheight = 0\n",
    "    lastheight = 0\n",
    "    for j in range(50):\n",
    "        if unw[i, j]==0:\n",
    "            continue\n",
    "        \n",
    "        \n",
    "        pixel = rnglook*j + (rnglook//2)\n",
    "        rng = strt_rng + pixelsize*pixel\n",
    "#         inc_angle = \n",
    "        \n",
    "        target = mBurst.orbit.rdr2geo(tline, rng, height=curheight) \n",
    "        targxyz = np.array(refElp.LLH(target[0], target[1], target[2]).ecef().tolist())\n",
    "        slvTime, slvrng = sBurst.orbit.geo2rdr(target)\n",
    "        secondarySV = sBurst.orbit.interpolateOrbit(slvTime, method='hermite')\n",
    "        mxyz = np.array(referenceSV.getPosition())\n",
    "        print(\"!!!\", np.linalg.norm(targxyz-mxyz), rng)\n",
    "        mvel = np.array(referenceSV.getVelocity())\n",
    "        sxyz = np.array(secondarySV.getPosition())\n",
    "        mvelunit = mvel / np.linalg.norm(mvel)\n",
    "        sxyz = sxyz - np.dot ( sxyz-mxyz, mvelunit) * mvelunit\n",
    "        print(mxyz)\n",
    "        aa = np.linalg.norm(sxyz-mxyz)\n",
    "        \n",
    "        denominator = 2*aa*rng\n",
    "        numerator = rng*rng + aa*aa\n",
    "#         print(unw[i,j], los[i,j])\n",
    "        phase = unw[i,j]\n",
    "        \n",
    "        for j in range(4):\n",
    "            \n",
    "            target = mBurst.orbit.rdr2geo(tline, rng, height=curheight) \n",
    "            slvTime, slvrng = sBurst.orbit.geo2rdr(target)\n",
    "            secondarySV = sBurst.orbit.interpolateOrbit(slvTime, method='hermite')\n",
    "            targxyz = np.array(refElp.LLH(target[0], target[1], target[2]).ecef().tolist())\n",
    "            \n",
    "            costheta = (numerator - slvrng*slvrng)/denominator\n",
    "            sintheta = np.sqrt(1-(costheta**2))\n",
    "            ht = np.linalg.norm(mxyz)\n",
    "            er = get_earthRadius(mxyz[2], ht, refElp)\n",
    "            cosla = ((rng**2 + ht**2 - er**2)/(2*ht*rng))\n",
    "            print(los[i,j], np.arccos(cosla)*180/np.pi)\n",
    "            lastheight = curheight\n",
    "            curheight = (-wavelength*rng*np.sin(los[i,j]*deg2rad)*phase)/(4*np.pi*(Bhor*costheta + Bver*sintheta))\n",
    "            \n",
    "            \n",
    "            if np.abs(lastheight-curheight) < thresh:\n",
    "                H[i,j] = curheight\n",
    "#                 print(curheight, phase, los[i,j])\n",
    "                break\n",
    "        \n",
    "                "
   ]
  },
  {
   "cell_type": "code",
   "execution_count": 12,
   "metadata": {},
   "outputs": [
    {
     "data": {
      "text/plain": [
       "801310.6974363105"
      ]
     },
     "execution_count": 12,
     "metadata": {},
     "output_type": "execute_result"
    }
   ],
   "source": [
    "np.linalg.norm(mxyz-targxyz)"
   ]
  },
  {
   "cell_type": "code",
   "execution_count": 21,
   "metadata": {},
   "outputs": [
    {
     "data": {
      "text/plain": [
       "7071860.358316759"
      ]
     },
     "execution_count": 21,
     "metadata": {},
     "output_type": "execute_result"
    }
   ],
   "source": [
    "np.linalg.norm(mxyz)"
   ]
  },
  {
   "cell_type": "code",
   "execution_count": 53,
   "metadata": {},
   "outputs": [
    {
     "data": {
      "text/plain": [
       "16323224.207598044"
      ]
     },
     "execution_count": 53,
     "metadata": {},
     "output_type": "execute_result"
    }
   ],
   "source": [
    "refElp = Planet(pname='Earth').ellipsoid\n",
    "refElp.a += 10000000\n",
    "refElp.b"
   ]
  },
  {
   "cell_type": "code",
   "execution_count": 7,
   "metadata": {},
   "outputs": [
    {
     "data": {
      "text/plain": [
       "60.00000000000001"
      ]
     },
     "execution_count": 7,
     "metadata": {},
     "output_type": "execute_result"
    }
   ],
   "source": [
    "np.arccos(0.5)*180/np.pi"
   ]
  },
  {
   "cell_type": "code",
   "execution_count": 37,
   "metadata": {},
   "outputs": [
    {
     "data": {
      "text/plain": [
       "datetimeType(2017, 9, 16, 12, 47, 57, 959802)"
      ]
     },
     "execution_count": 37,
     "metadata": {},
     "output_type": "execute_result"
    }
   ],
   "source": [
    "import datetime\n",
    "\n",
    "deltaT = datetime.timedelta(seconds=(line - 1)*mBurst.azimuthTimeInterval)\n",
    "tt = mBurst.sensingStart + deltaT\n",
    "tt"
   ]
  },
  {
   "cell_type": "code",
   "execution_count": 26,
   "metadata": {},
   "outputs": [
    {
     "data": {
      "text/plain": [
       "'./reference/IW2.xml'"
      ]
     },
     "execution_count": 26,
     "metadata": {},
     "output_type": "execute_result"
    }
   ],
   "source": [
    "swath = 2\n",
    "'./reference/IW{0}.xml'.format(swath)"
   ]
  },
  {
   "cell_type": "code",
   "execution_count": 36,
   "metadata": {},
   "outputs": [
    {
     "data": {
      "text/plain": [
       "31"
      ]
     },
     "execution_count": 36,
     "metadata": {},
     "output_type": "execute_result"
    }
   ],
   "source": [
    "line"
   ]
  },
  {
   "cell_type": "code",
   "execution_count": 44,
   "metadata": {},
   "outputs": [
    {
     "name": "stdout",
     "output_type": "stream",
     "text": [
      "2017-09-16 12:48:11.424723 2017-09-16 12:48:05.905555\n"
     ]
    }
   ],
   "source": [
    "ref = loadProduct('./reference/IW2.xml')\n",
    "# sec = loadProduct('./secondary/IW1.xml')\n",
    "print(ref.bursts[2].sensingMid, ref.bursts[0].sensingMid)"
   ]
  },
  {
   "cell_type": "code",
   "execution_count": 47,
   "metadata": {},
   "outputs": [
    {
     "data": {
      "text/plain": [
       "<isceobj.Sensor.TOPS.BurstSLC.BurstSLC at 0x7efd5e8c7c10>"
      ]
     },
     "execution_count": 47,
     "metadata": {},
     "output_type": "execute_result"
    }
   ],
   "source": [
    "ref.bursts[0]"
   ]
  },
  {
   "cell_type": "code",
   "execution_count": 18,
   "metadata": {},
   "outputs": [
    {
     "name": "stdout",
     "output_type": "stream",
     "text": [
      "[32.66395745660681, 78.30269310191913, 5000]\n"
     ]
    }
   ],
   "source": [
    "import numpy as np\n",
    "\n",
    "ref = loadProduct('./reference/IW2.xml')\n",
    "tmid = ref.sensingMid\n",
    "referenceSV = ref.orbit.interpolate(tmid, method='hermite')\n",
    "rng = ref.midRange\n",
    "target = ref.orbit.rdr2geo(tmid, rng)\n",
    "target[2] = 5000\n",
    "slvTime, slvrng = sec.orbit.geo2rdr(target)\n",
    "# secondarySV = sec.orbit.interpolateOrbit(slvTime, method='hermite')\n",
    "\n",
    "\n",
    "print(target)\n",
    "targxyz = np.array(refElp.LLH(target[0], target[1], target[2]).ecef().tolist())\n",
    "# print(ref.bursts[2].sensingMid, ref.bursts[0].sensingMid)"
   ]
  },
  {
   "cell_type": "code",
   "execution_count": 60,
   "metadata": {},
   "outputs": [
    {
     "data": {
      "text/plain": [
       "datetimeType(2017, 9, 16, 12, 48, 8, 665139)"
      ]
     },
     "execution_count": 60,
     "metadata": {},
     "output_type": "execute_result"
    }
   ],
   "source": [
    "# rng = ref.startingRange\n",
    "tmid"
   ]
  },
  {
   "cell_type": "code",
   "execution_count": 49,
   "metadata": {},
   "outputs": [
    {
     "data": {
      "text/plain": [
       "871783.8259428616"
      ]
     },
     "execution_count": 49,
     "metadata": {},
     "output_type": "execute_result"
    }
   ],
   "source": [
    "slvrng"
   ]
  },
  {
   "cell_type": "code",
   "execution_count": 42,
   "metadata": {},
   "outputs": [
    {
     "data": {
      "text/plain": [
       "array([1089669.52302492, 5263060.88296055, 3422644.04825351])"
      ]
     },
     "execution_count": 42,
     "metadata": {},
     "output_type": "execute_result"
    }
   ],
   "source": [
    "targxyz"
   ]
  },
  {
   "cell_type": "code",
   "execution_count": 25,
   "metadata": {},
   "outputs": [
    {
     "name": "stdout",
     "output_type": "stream",
     "text": [
      "2023-01-13 15:55:28,940 - matplotlib.colorbar - DEBUG - locator: <matplotlib.colorbar._ColorbarAutoLocator object at 0x7f04a93be940>\n",
      "2023-01-13 15:55:28,941 - matplotlib.colorbar - DEBUG - Using auto colorbar locator on colorbar\n",
      "2023-01-13 15:55:28,942 - matplotlib.colorbar - DEBUG - locator: <matplotlib.colorbar._ColorbarAutoLocator object at 0x7f04a93be940>\n",
      "2023-01-13 15:55:28,942 - matplotlib.colorbar - DEBUG - Setting pcolormesh\n"
     ]
    },
    {
     "data": {
      "image/png": "[encoded data removed]",
      "text/plain": [
       "<Figure size 1440x1440 with 2 Axes>"
      ]
     },
     "metadata": {
      "needs_background": "light"
     },
     "output_type": "display_data"
    }
   ],
   "source": [
    "import matplotlib.pyplot as plt\n",
    "Los = los.copy()\n",
    "Los[los==0] = np.nan\n",
    "fig = plt.figure(figsize=(20,20))\n",
    "ax = plt.imshow(Los, cmap='gray')\n",
    "fig.colorbar(ax)\n",
    "plt.show()"
   ]
  },
  {
   "cell_type": "code",
   "execution_count": null,
   "metadata": {},
   "outputs": [],
   "source": [
    "unw.shape"
   ]
  }
 ],
 "metadata": {
  "kernelspec": {
   "display_name": "Python 3",
   "language": "python",
   "name": "python3"
  },
  "language_info": {
   "codemirror_mode": {
    "name": "ipython",
    "version": 3
   },
   "file_extension": ".py",
   "mimetype": "text/x-python",
   "name": "python",
   "nbconvert_exporter": "python",
   "pygments_lexer": "ipython3",
   "version": "3.8.10"
  }
 },
 "nbformat": 4,
 "nbformat_minor": 4
}
