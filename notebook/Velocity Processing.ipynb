{
 "cells": [
  {
   "cell_type": "code",
   "execution_count": 3,
   "metadata": {},
   "outputs": [],
   "source": [
    "from osgeo import gdal, osr\n",
    "import numpy as np"
   ]
  },
  {
   "cell_type": "code",
   "execution_count": 4,
   "metadata": {},
   "outputs": [],
   "source": [
    "from osgeo import gdal, osr\n",
    "import numpy as np"
   ]
  },
  {
   "cell_type": "code",
   "execution_count": 27,
   "metadata": {},
   "outputs": [
    {
     "name": "stdout",
     "output_type": "stream",
     "text": [
      "/DATA/glacier-vel/Automated_Offset_Tracking\n"
     ]
    }
   ],
   "source": [
    "# %cd /home/ayush12gupta/Desktop/ugp/exp2\n",
    "%cd /DATA/glacier-vel/Automated_Offset_Tracking/"
   ]
  },
  {
   "cell_type": "code",
   "execution_count": 28,
   "metadata": {},
   "outputs": [
    {
     "name": "stdout",
     "output_type": "stream",
     "text": [
      "\u001b[0m\u001b[01;34mconfigs\u001b[0m/           \u001b[01;34mnotebook\u001b[0m/           README.md          \u001b[01;34mstack\u001b[0m/\r\n",
      "\u001b[01;34mdata\u001b[0m/              offset_batch.py     reference.xml      stack_process.py\r\n",
      "\u001b[01;34mdocs\u001b[0m/              offset_tracking.py  requirements.txt   \u001b[01;32mtopsApp.py\u001b[0m*\r\n",
      "\u001b[01;34mgeogrid_autorift\u001b[0m/  \u001b[01;34mpreprocessing\u001b[0m/      secondary.xml      topsApp.xml\r\n",
      "isce_batch.py      \u001b[01;34m__pycache__\u001b[0m/        single_process.py  utils.py\r\n"
     ]
    }
   ],
   "source": [
    "ls"
   ]
  },
  {
   "cell_type": "code",
   "execution_count": null,
   "metadata": {},
   "outputs": [],
   "source": [
    "import pandas as pd\n"
   ]
  },
  {
   "cell_type": "code",
   "execution_count": 3,
   "metadata": {},
   "outputs": [
    {
     "name": "stdout",
     "output_type": "stream",
     "text": [
      "3106 2870\n"
     ]
    }
   ],
   "source": [
    "#-------------Get bbox ------------------------\n",
    "def getbbox(filenm):\n",
    "    ds = gdal.Open(filenm)\n",
    "    geo = ds.GetGeoTransform()\n",
    "    demsp = ds.GetRasterBand(1).ReadAsArray()\n",
    "    x_size, y_size = demsp.shape[::-1]\n",
    "    print(x_size, y_size)\n",
    "    geo_t = np.array(geo).copy()\n",
    "    xmin = min(geo_t[0], geo_t[0] + x_size * geo_t[1])\n",
    "    xmax = max(geo_t[0], geo_t[0] + x_size * geo_t[1])\n",
    "    ymin = min(geo_t[3], geo_t[3] + y_size * geo_t[5])\n",
    "    ymax = max(geo_t[3], geo_t[3] + y_size * geo_t[5])\n",
    "    return [xmin, ymin, xmax, ymax]\n",
    "\n",
    "bbox = getbbox('velocity.tif')\n",
    "\n",
    "# ------------Bbox cropping----------------------\n",
    "# !gdalwarp -te 674777.4423958672 3549293.760153323 760890.8205813951 3628864.074188244 ../slope_demroi2.tif clippedByCoords.tif\n",
    "# !gdalwarp -te 674777.4423958672 3549293.760153323 765825.8435424459 3628864.074188244 ../slope_demroi2.tif slope_dem.tif"
   ]
  },
  {
   "cell_type": "code",
   "execution_count": 17,
   "metadata": {},
   "outputs": [],
   "source": [
    "def read_vals(fn, nodat=None, band=1):\n",
    "    ds = gdal.Open(fn)\n",
    "    disp = ds.GetRasterBand(band).ReadAsArray()\n",
    "    nodata = np.isnan(disp)\n",
    "    disp[nodata] = -32767\n",
    "    if nodat is not None:\n",
    "        nodata = (nodat|nodata)\n",
    "        disp[nodat] = -32767\n",
    "    ds = None\n",
    "    return disp, nodata"
   ]
  },
  {
   "cell_type": "code",
   "execution_count": 22,
   "metadata": {},
   "outputs": [],
   "source": [
    "val, nodata = read_vals('stack_0_1_1.tif')"
   ]
  },
  {
   "cell_type": "code",
   "execution_count": 24,
   "metadata": {},
   "outputs": [
    {
     "data": {
      "text/plain": [
       "array([[False, False, False, ..., False, False, False],\n",
       "       [False, False, False, ..., False, False, False],\n",
       "       [False, False, False, ..., False, False, False],\n",
       "       ...,\n",
       "       [False, False, False, ..., False, False, False],\n",
       "       [False, False, False, ..., False, False, False],\n",
       "       [False, False, False, ..., False, False, False]])"
      ]
     },
     "execution_count": 24,
     "metadata": {},
     "output_type": "execute_result"
    }
   ],
   "source": [
    "val"
   ]
  },
  {
   "cell_type": "code",
   "execution_count": 2,
   "metadata": {},
   "outputs": [],
   "source": [
    "import os\n",
    "from osgeo import gdal\n",
    "from osgeo import osr\n",
    "import numpy\n",
    "\n",
    "# config\n",
    "GDAL_DATA_TYPE = gdal.GDT_Float64 \n",
    "GEOTIFF_DRIVER_NAME = \"GTiff\"\n",
    "NO_DATA = -32767\n",
    "SPATIAL_REFERENCE_SYSTEM_WKID = 32767\n",
    "\n",
    "def create_raster(output_path,\n",
    "                  columns,\n",
    "                  rows,\n",
    "                  nband = 1,\n",
    "                  gdal_data_type = GDAL_DATA_TYPE,\n",
    "                  driver = GEOTIFF_DRIVER_NAME):\n",
    "\n",
    "    driver = gdal.GetDriverByName(driver)\n",
    "\n",
    "    output_raster = driver.Create(output_path, int(columns), int(rows), nband, eType = gdal_data_type)    \n",
    "    return output_raster\n",
    "\n",
    "def numpy_array_to_raster(output_path,\n",
    "                          numpy_array,\n",
    "                          proj,\n",
    "                          trans,\n",
    "                          nband = 1,\n",
    "                          no_data = NO_DATA,\n",
    "                          gdal_data_type = GDAL_DATA_TYPE,\n",
    "                          spatial_reference_system_wkid = SPATIAL_REFERENCE_SYSTEM_WKID,\n",
    "                          driver = GEOTIFF_DRIVER_NAME):\n",
    "\n",
    "\n",
    "    rows, columns = numpy_array.shape\n",
    "    output_raster = create_raster(output_path, int(columns), int(rows), nband, gdal_data_type) \n",
    "    geotransform = trans\n",
    "    print(geotransform)\n",
    "\n",
    "    spatial_reference = osr.SpatialReference()\n",
    "    spatial_reference.ImportFromWkt(proj)\n",
    "    # spatial_reference.ImportFromProj4('+proj=lcc +lat_1=15 +lat_2=65 +lat_0=30 +lon_0=95 +x_0=0 +y_0=0 +datum=WGS84 +units=m +no_defs')\n",
    "    output_raster.SetProjection(spatial_reference.ExportToWkt())\n",
    "    output_raster.SetGeoTransform(geotransform)\n",
    "    output_band = output_raster.GetRasterBand(1)\n",
    "    output_band.SetNoDataValue(no_data)\n",
    "    output_band.WriteArray(numpy_array)          \n",
    "    output_band.FlushCache()\n",
    "    print(output_raster.GetProjection())\n",
    "    \n",
    "    return  output_raster"
   ]
  },
  {
   "cell_type": "code",
   "execution_count": 5,
   "metadata": {},
   "outputs": [
    {
     "name": "stdout",
     "output_type": "stream",
     "text": [
      "odict_keys(['img_pair_info', 'x', 'y', 'mapping', 'vx', 'vy', 'v', 'v_error', 'vr', 'va', 'M11', 'M12', 'chip_size_width', 'chip_size_height', 'interp_mask'])\n"
     ]
    },
    {
     "data": {
      "text/plain": [
       "<class 'netCDF4._netCDF4.Variable'>\n",
       "vlen img_pair_info()\n",
       "    mission_img1: S\n",
       "    sensor_img1: C\n",
       "    satellite_img1: 1A\n",
       "    acquisition_img1: 20190701T12:56:28.026977\n",
       "    time_standard_img1: UTC\n",
       "    absolute_orbit_number_img1: 027924\n",
       "    mission_data_take_ID_img1: 03271C\n",
       "    product_unique_ID_img1: 0046\n",
       "    flight_direction_img1: ascending\n",
       "    mission_img2: S\n",
       "    sensor_img2: C\n",
       "    satellite_img2: 1A\n",
       "    acquisition_img2: 20190713T12:56:28.737528\n",
       "    time_standard_img2: UTC\n",
       "    absolute_orbit_number_img2: 028099\n",
       "    mission_data_take_ID_img2: 032C6A\n",
       "    product_unique_ID_img2: 869A\n",
       "    flight_direction_img2: ascending\n",
       "    date_dt: 12.000008223969907\n",
       "    date_center: 20190707T12:56:28.382253\n",
       "    latitude: 32.3\n",
       "    longitude: 76.73\n",
       "    roi_valid_percentage: 95.3\n",
       "    autoRIFT_software_version: 1.4.0\n",
       "vlen data type: <class 'str'>\n",
       "unlimited dimensions: \n",
       "current shape = ()"
      ]
     },
     "execution_count": 5,
     "metadata": {},
     "output_type": "execute_result"
    }
   ],
   "source": [
    "import netCDF4\n",
    "\n",
    "file2read = netCDF4.Dataset('exp21_G0028V02_P095.nc','r')\n",
    "print(file2read.variables.keys())\n",
    "file2read['img_pair_info']\n",
    "# er = np.array(file2read['v_error'])\n",
    "\n",
    "# geo_tans = file2read['mapping'].GeoTransform.split(' ')\n",
    "# geo_trans = [float(trans) for trans in geo_trans]\n",
    "# geo_trans"
   ]
  },
  {
   "cell_type": "code",
   "execution_count": 6,
   "metadata": {},
   "outputs": [],
   "source": [
    "import netCDF4\n",
    "#-----Params for velocity processing----------------\n",
    "incidenceAngle = 41.8862\n",
    "deg2rad = np.pi/180\n",
    "sin_incid = np.sin(incidenceAngle*deg2rad)\n",
    "cos_incid = np.cos(incidenceAngle*deg2rad)\n",
    "\n",
    "#----------- Angle u-----------------------\n",
    "demsp = gdal.Open('slope_dem.tif')\n",
    "projs = demsp.GetProjection()\n",
    "geo = demsp.GetGeoTransform()\n",
    "nodata = demsp.GetRasterBand(1).GetNoDataValue()\n",
    "angle_u = demsp.GetRasterBand(1).ReadAsArray()*deg2rad\n",
    "angle_u_nodt = (angle_u==nodata)\n",
    "demsp = None\n",
    "\n",
    "#----------- Compute angle V------------------------\n",
    "file2read = netCDF4.Dataset('exp21_G0028V02_P095.nc','r')\n",
    "\n",
    "vr = np.array(file2read['vr']).astype(float)\n",
    "vr_nodt = (vr==-32767)\n",
    "vr[vr_nodt] = 0  #np.nan\n",
    "va = np.array(file2read['va']).astype(float)\n",
    "va_nodt = (va==-32767)\n",
    "va[va_nodt] = 0  #np.nan\n",
    "\n",
    "nodata = (va!=0)\n",
    "tmp = np.zeros_like(vr)\n",
    "tmp[nodata] = (vr*sin_incid)[nodata]/va[nodata]\n",
    "angle_v = np.arctan(tmp)"
   ]
  },
  {
   "cell_type": "code",
   "execution_count": 9,
   "metadata": {},
   "outputs": [
    {
     "name": "stdout",
     "output_type": "stream",
     "text": [
      "PROJCS[\"WGS 84 / UTM zone 43N\",GEOGCS[\"WGS 84\",DATUM[\"WGS_1984\",SPHEROID[\"WGS 84\",6378137,298.257223563,AUTHORITY[\"EPSG\",\"7030\"]],AUTHORITY[\"EPSG\",\"6326\"]],PRIMEM[\"Greenwich\",0,AUTHORITY[\"EPSG\",\"8901\"]],UNIT[\"degree\",0.0174532925199433,AUTHORITY[\"EPSG\",\"9122\"]],AUTHORITY[\"EPSG\",\"4326\"]],PROJECTION[\"Transverse_Mercator\"],PARAMETER[\"latitude_of_origin\",0],PARAMETER[\"central_meridian\",75],PARAMETER[\"scale_factor\",0.9996],PARAMETER[\"false_easting\",500000],PARAMETER[\"false_northing\",0],UNIT[\"metre\",1,AUTHORITY[\"EPSG\",\"9001\"]],AXIS[\"Easting\",EAST],AXIS[\"Northing\",NORTH],AUTHORITY[\"EPSG\",\"32643\"]]\n"
     ]
    }
   ],
   "source": [
    "# ds = gdal.Open('../slope_demroi.tif')\n",
    "\n",
    "print(projs)\n",
    "# demsp[demsp==-9999] = -32767\n",
    "# # geo\n",
    "# demsp.shape"
   ]
  },
  {
   "cell_type": "code",
   "execution_count": 24,
   "metadata": {},
   "outputs": [],
   "source": [
    "#--------------Flow velocity along the glacier plane--------------------\n",
    "vf = vr*(((np.cos(angle_u)* np.sin(angle_v))*sin_incid) - (cos_incid*np.sin(angle_u))) + va*(np.cos(angle_u)*np.cos(angle_v))\n",
    "vf[angle_u_nodt] = 0\n",
    "vf[va_nodt] = -32767\n",
    "vf[vr_nodt] = -32767"
   ]
  },
  {
   "cell_type": "code",
   "execution_count": 25,
   "metadata": {},
   "outputs": [],
   "source": [
    "#------------Thickness change velocity------------------------\n",
    "vn = vr*(((np.sin(angle_u)* np.sin(angle_v))*sin_incid) - (cos_incid*np.cos(angle_u))) + va*(np.sin(angle_u)*np.cos(angle_v))\n",
    "vn[angle_u_nodt] = 0\n",
    "vn[va_nodt] = -32767\n",
    "vn[vr_nodt] = -32767"
   ]
  },
  {
   "cell_type": "code",
   "execution_count": 26,
   "metadata": {},
   "outputs": [
    {
     "data": {
      "text/plain": [
       "13446.361317888079"
      ]
     },
     "execution_count": 26,
     "metadata": {},
     "output_type": "execute_result"
    }
   ],
   "source": [
    "vf[vf>0].max()"
   ]
  },
  {
   "cell_type": "code",
   "execution_count": 27,
   "metadata": {},
   "outputs": [
    {
     "data": {
      "text/plain": [
       "11405.777317549413"
      ]
     },
     "execution_count": 27,
     "metadata": {},
     "output_type": "execute_result"
    }
   ],
   "source": [
    "vn[vn>0].max()"
   ]
  },
  {
   "cell_type": "code",
   "execution_count": 11,
   "metadata": {},
   "outputs": [
    {
     "data": {
      "text/plain": [
       "147.36619343976068"
      ]
     },
     "execution_count": 11,
     "metadata": {},
     "output_type": "execute_result"
    }
   ],
   "source": [
    "va[va>0].mean()"
   ]
  },
  {
   "cell_type": "code",
   "execution_count": 35,
   "metadata": {},
   "outputs": [
    {
     "name": "stdout",
     "output_type": "stream",
     "text": [
      "(674777.4423958672, 27.724848095791327, 0.0, 3628864.074188244, 0.0, -27.72484809579133)\n",
      "PROJCS[\"WGS 84 / UTM zone 43N\",GEOGCS[\"WGS 84\",DATUM[\"WGS_1984\",SPHEROID[\"WGS 84\",6378137,298.257223563,AUTHORITY[\"EPSG\",\"7030\"]],AUTHORITY[\"EPSG\",\"6326\"]],PRIMEM[\"Greenwich\",0,AUTHORITY[\"EPSG\",\"8901\"]],UNIT[\"degree\",0.0174532925199433,AUTHORITY[\"EPSG\",\"9122\"]],AUTHORITY[\"EPSG\",\"4326\"]],PROJECTION[\"Transverse_Mercator\"],PARAMETER[\"latitude_of_origin\",0],PARAMETER[\"central_meridian\",75],PARAMETER[\"scale_factor\",0.9996],PARAMETER[\"false_easting\",500000],PARAMETER[\"false_northing\",0],UNIT[\"metre\",1,AUTHORITY[\"EPSG\",\"9001\"]],AXIS[\"Easting\",EAST],AXIS[\"Northing\",NORTH],AUTHORITY[\"EPSG\",\"32643\"]]\n"
     ]
    }
   ],
   "source": [
    "output_path = 'dem_crp.tif'\n",
    "ds = numpy_array_to_raster(output_path, data, projs, geo)\n",
    "ds.FlushCache()\n",
    "ds = None"
   ]
  },
  {
   "cell_type": "code",
   "execution_count": 52,
   "metadata": {},
   "outputs": [],
   "source": [
    "from pyproj import Proj, transform\n",
    "def transfPoint(x1, y1):\n",
    "    outProj = Proj(init='epsg:32643')\n",
    "    inProj = Proj(init='epsg:4326')\n",
    "    x2,y2 = transform(inProj,outProj,x1,y1)\n",
    "    return x2, y2\n",
    "# print(transfPoint(674777.4423958672, 3549293.760153323))"
   ]
  },
  {
   "cell_type": "code",
   "execution_count": 62,
   "metadata": {},
   "outputs": [],
   "source": [
    "def map_to_pixel(mx,my,gt):\n",
    "    #Convert from map to pixel coordinates.\n",
    "    #Only works for geotransforms with no rotation.\n",
    "    px = int((mx - gt[0]) / gt[1]) #x pixel\n",
    "    py = int((my - gt[3]) / gt[5]) #y pixel\n",
    "\n",
    "    return px,py\n",
    "\n",
    "def extent_to_offset(xmin,ymin,xmax,ymax,gt):\n",
    "    pxmin,pymin = map_to_pixel(xmin,ymin,gt)\n",
    "    pxmax,pymax = map_to_pixel(xmax,ymax,gt)\n",
    "    print(pxmin, pymin, pxmax, pymax)\n",
    "    return pxmin,pymin,pxmax-pxmin,pymax-pymin"
   ]
  },
  {
   "cell_type": "code",
   "execution_count": 63,
   "metadata": {},
   "outputs": [
    {
     "name": "stdout",
     "output_type": "stream",
     "text": [
      "1705 2056 1706 2056\n",
      "1705 2056 1 0\n"
     ]
    }
   ],
   "source": [
    "# (np.array(val)*100)/365\n",
    "ds = gdal.Open('Vf.tif')\n",
    "projs = ds.GetProjection()\n",
    "geo = ds.GetGeoTransform()\n",
    "xoff, yoff, xsize, ysize = extent_to_offset(x1,y1,x2,y2,geo)\n",
    "print(xoff, yoff, xsize, ysize)"
   ]
  },
  {
   "cell_type": "code",
   "execution_count": 83,
   "metadata": {},
   "outputs": [
    {
     "name": "stdout",
     "output_type": "stream",
     "text": [
      "722071.560912495 3571850.044141498 722080.7393134453 3571861.3399736956\n",
      "This is val:  <xarray.DataArray ()>\n",
      "array(-53.88326)\n",
      "Coordinates:\n",
      "    band     int64 1\n",
      "    y        float64 3.572e+06\n",
      "    x        float64 7.221e+05\n",
      "Attributes:\n",
      "    transform:      (27.724848095791327, 0.0, 674777.4423958672, 0.0, -27.724...\n",
      "    crs:            +proj=utm +zone=43 +datum=WGS84 +units=m +no_defs=True\n",
      "    res:            (27.724848095791327, 27.72484809579133)\n",
      "    is_tiled:       0\n",
      "    nodatavals:     (-32767.0,)\n",
      "    scales:         (1.0,)\n",
      "    offsets:        (0.0,)\n",
      "    AREA_OR_POINT:  Area\n",
      "This is val:  <xarray.DataArray ()>\n",
      "array(16.813273)\n",
      "Coordinates:\n",
      "    band     int64 1\n",
      "    y        float64 3.572e+06\n",
      "    x        float64 7.221e+05\n",
      "Attributes:\n",
      "    transform:      (27.724848095791327, 0.0, 674777.4423958672, 0.0, -27.724...\n",
      "    crs:            +proj=utm +zone=43 +datum=WGS84 +units=m +no_defs=True\n",
      "    res:            (27.724848095791327, 27.72484809579133)\n",
      "    is_tiled:       0\n",
      "    nodatavals:     (-32767.0,)\n",
      "    scales:         (1.0,)\n",
      "    offsets:        (0.0,)\n",
      "    AREA_OR_POINT:  Area\n"
     ]
    }
   ],
   "source": [
    "import xarray as xr\n",
    "\n",
    "# We define a location\n",
    "lon1, lat1 = (77.3575, 32.2614)\n",
    "lon2, lat2 = (77.3576, 32.2615)\n",
    "# 32.2538N/77.3596E 32.2509N/77.3616E 5.30\n",
    "x1, y1 = transfPoint(lon1, lat1)\n",
    "x2, y2 = transfPoint(lon2, lat2)\n",
    "\n",
    "print(x1, y1, x2, y2)\n",
    "\n",
    "# In this example I am reading a file with (time, x, y) as dimensions\n",
    "xarr = xr.open_rasterio('Vf.tif')\n",
    "\n",
    "# Slice one of the bands\n",
    "img = xarr[0, :, :]\n",
    "# img\n",
    "#Use the .sel() method to retrieve the value of the nearest cell close to your POI\n",
    "val = img.sel(x=x2, y=y2, method=\"nearest\")    \n",
    "print(\"This is val: \", val)\n",
    "val = img.sel(x=x1, y=y1, method=\"nearest\")    \n",
    "print(\"This is val: \", val)"
   ]
  },
  {
   "cell_type": "code",
   "execution_count": 27,
   "metadata": {},
   "outputs": [
    {
     "name": "stdout",
     "output_type": "stream",
     "text": [
      "-24335.820636980414 130888.51060100606 -24335.82063698038 130888.51060100603\n",
      "-24335 130888 0 0\n"
     ]
    }
   ],
   "source": [
    "inv_geotransform = gdal.InvGeoTransform(geo)\n",
    "\n",
    "bbox = [x1, y1, x2, y2]\n",
    "\n",
    "_x0, _y0 = gdal.ApplyGeoTransform(inv_geotransform, bbox[0], bbox[1])\n",
    "_x1, _y1 = gdal.ApplyGeoTransform(inv_geotransform, bbox[2], bbox[3])\n",
    "\n",
    "print(_x0, _y0, _x1, _y1)\n",
    "\n",
    "x0, y0 = min(_x0, _x1), min(_y0, _y1)\n",
    "x1, y1 = max(_x0, _x1), max(_y0, _y1)\n",
    "\n",
    "print(int(x0), int(y0), int(x1-x0), int(y1-y0))"
   ]
  },
  {
   "cell_type": "code",
   "execution_count": 34,
   "metadata": {},
   "outputs": [],
   "source": [
    "# (np.array(val)*100)/365\n",
    "ds = gdal.Open('slope_dem.tif')\n",
    "band = ds.GetRasterBand(1)\n",
    "data = band.ReadAsArray()\n",
    "data[va_nodt] = -32767"
   ]
  },
  {
   "cell_type": "code",
   "execution_count": 13,
   "metadata": {},
   "outputs": [
    {
     "data": {
      "text/plain": [
       "0.10410958904109589"
      ]
     },
     "execution_count": 13,
     "metadata": {},
     "output_type": "execute_result"
    }
   ],
   "source": [
    "# data[data>0].max()\n",
    "# va_nodt\n",
    "38/365"
   ]
  },
  {
   "cell_type": "code",
   "execution_count": 5,
   "metadata": {},
   "outputs": [
    {
     "name": "stdout",
     "output_type": "stream",
     "text": [
      "-64.26200262342863 -21.53390444782821\n",
      "746.3834765581355 292.5115292117991\n"
     ]
    }
   ],
   "source": [
    "# Combine\n",
    "ds = gdal.Open('Vf.tif')\n",
    "vf = ds.GetRasterBand(1).ReadAsArray()\n",
    "ds = gdal.Open('Vn.tif')\n",
    "vn = ds.GetRasterBand(1).ReadAsArray()\n",
    "# v = np.sqrt(vn**2 + vf**2)\n",
    "vf_u = vf[vf!=-32767]\n",
    "vn_u = vn[vn!=-32767]\n",
    "\n",
    "print(vf_u[vf_u<150].mean(), vn_u[vn_u<150].mean())\n",
    "print(vf_u.std(), vn_u.std())"
   ]
  },
  {
   "cell_type": "code",
   "execution_count": 15,
   "metadata": {},
   "outputs": [
    {
     "name": "stdout",
     "output_type": "stream",
     "text": [
      "-60.97274070628989 -20.252527209442224\n",
      "nan nan\n"
     ]
    }
   ],
   "source": [
    "vf[vf==-32767] = np.nan\n",
    "vn[vn==-32767] = np.nan\n",
    "print(vf[vf<200].mean(), vn[vn<200].mean())\n",
    "print(vf.std(), vn.std())\n"
   ]
  },
  {
   "cell_type": "code",
   "execution_count": 20,
   "metadata": {},
   "outputs": [
    {
     "name": "stdout",
     "output_type": "stream",
     "text": [
      "nan\n"
     ]
    }
   ],
   "source": [
    "data[data==np.nan] = 0\n",
    "Q1 = np.median(data)\n",
    "  \n",
    "# Third quartile (Q3)\n",
    "Q3 = np.median(data)\n",
    "  \n",
    "# Interquartile range (IQR)\n",
    "IQR = Q3 - Q1\n",
    "  \n",
    "print(IQR)"
   ]
  },
  {
   "cell_type": "code",
   "execution_count": 17,
   "metadata": {},
   "outputs": [
    {
     "name": "stdout",
     "output_type": "stream",
     "text": [
      "(8914220,) nan nan nan\n"
     ]
    },
    {
     "data": {
      "image/png": "[encoded data removed]",
      "text/plain": [
       "<Figure size 432x288 with 1 Axes>"
      ]
     },
     "metadata": {
      "needs_background": "light"
     },
     "output_type": "display_data"
    }
   ],
   "source": [
    "from shutil import copyfile, move # Utilities for copying and moving files\n",
    "from osgeo import gdal, osr            # GDAL support for reading virtual files\n",
    "import os                         # To create and remove directories\n",
    "import matplotlib.pyplot as plt   # For plotting\n",
    "import numpy as np                # Matrix calculations\n",
    "\n",
    "data = vn[vn!=np.nan]\n",
    "print(data.shape, data.min(), data.max(), data.std())\n",
    "\n",
    "plt.hist(data, bins=1000, range=[-163,163])\n",
    "plt.grid()\n",
    "\n",
    "plt.show()"
   ]
  },
  {
   "cell_type": "code",
   "execution_count": 18,
   "metadata": {},
   "outputs": [
    {
     "name": "stdout",
     "output_type": "stream",
     "text": [
      "(8914220,) nan nan nan\n"
     ]
    },
    {
     "data": {
      "image/png": "[encoded data removed]",
      "text/plain": [
       "<Figure size 432x288 with 1 Axes>"
      ]
     },
     "metadata": {
      "needs_background": "light"
     },
     "output_type": "display_data"
    }
   ],
   "source": [
    "from shutil import copyfile, move # Utilities for copying and moving files\n",
    "from osgeo import gdal, osr            # GDAL support for reading virtual files\n",
    "import os                         # To create and remove directories\n",
    "import matplotlib.pyplot as plt   # For plotting\n",
    "import numpy as np                # Matrix calculations\n",
    "\n",
    "data = vf[vf!=np.nan]\n",
    "print(data.shape, data.min(), data.max(), data.std())\n",
    "\n",
    "plt.hist(data, bins=1000, range=[-160,160])\n",
    "plt.grid()\n",
    "\n",
    "plt.show()"
   ]
  },
  {
   "cell_type": "code",
   "execution_count": 1,
   "metadata": {},
   "outputs": [],
   "source": [
    "from osgeo import gdal, osr\n",
    "import numpy as np"
   ]
  },
  {
   "cell_type": "code",
   "execution_count": 23,
   "metadata": {},
   "outputs": [
    {
     "data": {
      "text/plain": [
       "97.62949870094214"
      ]
     },
     "execution_count": 23,
     "metadata": {},
     "output_type": "execute_result"
    }
   ],
   "source": [
    "np.percentile(vf[vf<200], 95)"
   ]
  }
 ],
 "metadata": {
  "kernelspec": {
   "display_name": "Python 3",
   "language": "python",
   "name": "python3"
  },
  "language_info": {
   "codemirror_mode": {
    "name": "ipython",
    "version": 3
   },
   "file_extension": ".py",
   "mimetype": "text/x-python",
   "name": "python",
   "nbconvert_exporter": "python",
   "pygments_lexer": "ipython3",
   "version": "3.8.10"
  }
 },
 "nbformat": 4,
 "nbformat_minor": 5
}
